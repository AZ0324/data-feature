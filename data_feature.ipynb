{
  "nbformat": 4,
  "nbformat_minor": 0,
  "metadata": {
    "colab": {
      "provenance": [],
      "authorship_tag": "ABX9TyOxhJoHkqBMp6u7cMMjleY8",
      "include_colab_link": true
    },
    "kernelspec": {
      "name": "python3",
      "display_name": "Python 3"
    },
    "language_info": {
      "name": "python"
    }
  },
  "cells": [
    {
      "cell_type": "markdown",
      "metadata": {
        "id": "view-in-github",
        "colab_type": "text"
      },
      "source": [
        "<a href=\"https://colab.research.google.com/github/AZ0324/data-feature/blob/main/data_feature.ipynb\" target=\"_parent\"><img src=\"https://colab.research.google.com/assets/colab-badge.svg\" alt=\"Open In Colab\"/></a>"
      ]
    },
    {
      "cell_type": "markdown",
      "source": [
        "Steps:\n",
        "\n",
        "- sign up for aviation stack api\n",
        "- sign up for weather api\n",
        "- add api keys to collab secrets\n",
        "- test api\n",
        "- write function that determines flight arrival location\n",
        "- write function that finds current temperature of that location\n",
        "\n"
      ],
      "metadata": {
        "id": "HUC4ID68tqCH"
      }
    },
    {
      "cell_type": "code",
      "source": [
        "#set up API keys\n",
        "from google.colab import userdata\n",
        "\n",
        "Aviation_stack_API_key = userdata.get(\"Aviation_Stack_API_Key\")\n",
        "Weatherbit_API_key = userdata.get(\"Weatherbit_API_Key\")\n",
        "\n",
        "if Aviation_stack_API_key:\n",
        "  print(\"Aviation Stack API key retrieved successfully\")\n",
        "else:\n",
        "  print(\"Could not retrieve Aviation Stack API key\")\n",
        "\n",
        "if Weatherbit_API_key:\n",
        "  print(\"Weatherbit API key retrieved successfully\")\n",
        "else:\n",
        "  print(\"Could not retrieve Weatherbit API key\")"
      ],
      "metadata": {
        "id": "fqmlpE0etrV7",
        "colab": {
          "base_uri": "https://localhost:8080/"
        },
        "outputId": "2c80fa0f-c646-4e65-fcb3-86e4945ee18f"
      },
      "execution_count": null,
      "outputs": [
        {
          "output_type": "stream",
          "name": "stdout",
          "text": [
            "Aviation Stack API key retrieved successfully\n",
            "Weatherbit API key retrieved successfully\n"
          ]
        }
      ]
    },
    {
      "cell_type": "code",
      "source": [
        "#final code\n",
        "import requests\n",
        "\n",
        "#gets the city where the plane lands given flight number\n",
        "def get_arrival_city(flight_number):\n",
        "  api_key = Aviation_stack_API_key\n",
        "  url = f'https://api.aviationstack.com/v1/flights?access_key={Aviation_stack_API_key}&flight_iata={flight_number}'\n",
        "  response = requests.get(url)\n",
        "  flight_data = response.json()\n",
        "  if 'data' in flight_data and flight_data['data']:\n",
        "    arrival_airport = flight_data['data'][0]['arrival']['timezone']\n",
        "    temp = arrival_airport.partition('/')\n",
        "    arrival_city = temp[2]\n",
        "    return arrival_city\n",
        "  else:\n",
        "    return None\n",
        "\n",
        "#gets the airport where the plane lands given flight number\n",
        "def get_arrival_airport(flight_number):\n",
        "  api_key = Aviation_stack_API_key\n",
        "  url = f'https://api.aviationstack.com/v1/flights?access_key={Aviation_stack_API_key}&flight_iata={flight_number}'\n",
        "  response = requests.get(url)\n",
        "  flight_data = response.json()\n",
        "  if 'data' in flight_data and flight_data['data']:\n",
        "    arrival_airport = flight_data['data'][0]['arrival']['airport']\n",
        "    return arrival_airport\n",
        "  else:\n",
        "    return None\n",
        "\n",
        "#gets the current temperature of a city\n",
        "def get_weather(arrival):\n",
        "  api_key = Weatherbit_API_key\n",
        "  url = f'https://api.weatherbit.io/v2.0/current?city={arrival_city}&units=I&key={Weatherbit_API_key}'\n",
        "  response = requests.get(url)\n",
        "  weather_data = response.json()\n",
        "  if 'data' in weather_data and weather_data['data']:\n",
        "    temperature = weather_data['data'][0]['temp']\n",
        "    return temperature\n",
        "  else:\n",
        "    print(\"Error getting weather data.\")\n",
        "    return None\n",
        "\n",
        "#main code\n",
        "flight_number = input(\"Enter your flight number: \")\n",
        "arrival_city = get_arrival_city(flight_number)\n",
        "arrival_airport = get_arrival_airport(flight_number)\n",
        "\n",
        "if arrival_city:\n",
        "  temperature = get_weather(arrival_city)\n",
        "  if temperature is not None:\n",
        "    print(f'The current weather in {arrival_airport} is {temperature}°F.')\n",
        "  else:\n",
        "    print(\"Couldn't retrieve the temperature.\")\n",
        "else:\n",
        "  print(\"Couldn't retrieve the arrival location.\")\n",
        "\n",
        "#examples for class: AA100 (arrives in Heathrow, London), AC3159 (arrives in Newark)"
      ],
      "metadata": {
        "colab": {
          "base_uri": "https://localhost:8080/"
        },
        "id": "GjmXQIrzu_Y7",
        "outputId": "454d3ce5-3a82-4cac-81b5-d45b8890e34e"
      },
      "execution_count": 101,
      "outputs": [
        {
          "output_type": "stream",
          "name": "stdout",
          "text": [
            "Enter your flight number: aa100\n",
            "The current weather in Heathrow is 55°F.\n"
          ]
        }
      ]
    }
  ]
}